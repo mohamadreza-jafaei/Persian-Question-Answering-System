{
  "cells": [
    {
      "cell_type": "markdown",
      "metadata": {
        "id": "SyiwH5hRRX3h"
      },
      "source": [
        "**Code 3 -\n",
        "Create a Complete Machine by Merged All Part Together -\n",
        "Mohamadreza Jafaei -\n",
        "400131017 ***"
      ]
    },
    {
      "cell_type": "code",
      "execution_count": 1,
      "metadata": {
        "colab": {
          "base_uri": "https://localhost:8080/"
        },
        "id": "8FpTj_ZEOAUP",
        "outputId": "6815b681-1e69-40ac-b914-0f0000f31082"
      },
      "outputs": [
        {
          "name": "stdout",
          "output_type": "stream",
          "text": [
            "Looking in indexes: https://pypi.org/simple, https://us-python.pkg.dev/colab-wheels/public/simple/\n",
            "Requirement already satisfied: transformers in /usr/local/lib/python3.8/dist-packages (4.26.1)\n",
            "Requirement already satisfied: filelock in /usr/local/lib/python3.8/dist-packages (from transformers) (3.9.0)\n",
            "Requirement already satisfied: packaging>=20.0 in /usr/local/lib/python3.8/dist-packages (from transformers) (23.0)\n",
            "Requirement already satisfied: pyyaml>=5.1 in /usr/local/lib/python3.8/dist-packages (from transformers) (6.0)\n",
            "Requirement already satisfied: tokenizers!=0.11.3,<0.14,>=0.11.1 in /usr/local/lib/python3.8/dist-packages (from transformers) (0.13.2)\n",
            "Requirement already satisfied: tqdm>=4.27 in /usr/local/lib/python3.8/dist-packages (from transformers) (4.64.1)\n",
            "Requirement already satisfied: regex!=2019.12.17 in /usr/local/lib/python3.8/dist-packages (from transformers) (2022.6.2)\n",
            "Requirement already satisfied: numpy>=1.17 in /usr/local/lib/python3.8/dist-packages (from transformers) (1.22.4)\n",
            "Requirement already satisfied: requests in /usr/local/lib/python3.8/dist-packages (from transformers) (2.25.1)\n",
            "Requirement already satisfied: huggingface-hub<1.0,>=0.11.0 in /usr/local/lib/python3.8/dist-packages (from transformers) (0.12.1)\n",
            "Requirement already satisfied: typing-extensions>=3.7.4.3 in /usr/local/lib/python3.8/dist-packages (from huggingface-hub<1.0,>=0.11.0->transformers) (4.5.0)\n",
            "Requirement already satisfied: chardet<5,>=3.0.2 in /usr/local/lib/python3.8/dist-packages (from requests->transformers) (4.0.0)\n",
            "Requirement already satisfied: certifi>=2017.4.17 in /usr/local/lib/python3.8/dist-packages (from requests->transformers) (2022.12.7)\n",
            "Requirement already satisfied: urllib3<1.27,>=1.21.1 in /usr/local/lib/python3.8/dist-packages (from requests->transformers) (1.26.14)\n",
            "Requirement already satisfied: idna<3,>=2.5 in /usr/local/lib/python3.8/dist-packages (from requests->transformers) (2.10)\n",
            "Looking in indexes: https://pypi.org/simple, https://us-python.pkg.dev/colab-wheels/public/simple/\n",
            "Requirement already satisfied: annoy in /usr/local/lib/python3.8/dist-packages (1.17.1)\n",
            "Looking in indexes: https://pypi.org/simple, https://us-python.pkg.dev/colab-wheels/public/simple/\n",
            "Requirement already satisfied: datasets in /usr/local/lib/python3.8/dist-packages (2.10.0)\n",
            "Requirement already satisfied: transformers in /usr/local/lib/python3.8/dist-packages (4.26.1)\n",
            "Requirement already satisfied: packaging in /usr/local/lib/python3.8/dist-packages (from datasets) (23.0)\n",
            "Requirement already satisfied: numpy>=1.17 in /usr/local/lib/python3.8/dist-packages (from datasets) (1.22.4)\n",
            "Requirement already satisfied: pyarrow>=6.0.0 in /usr/local/lib/python3.8/dist-packages (from datasets) (9.0.0)\n",
            "Requirement already satisfied: requests>=2.19.0 in /usr/local/lib/python3.8/dist-packages (from datasets) (2.25.1)\n",
            "Requirement already satisfied: pyyaml>=5.1 in /usr/local/lib/python3.8/dist-packages (from datasets) (6.0)\n",
            "Requirement already satisfied: multiprocess in /usr/local/lib/python3.8/dist-packages (from datasets) (0.70.14)\n",
            "Requirement already satisfied: responses<0.19 in /usr/local/lib/python3.8/dist-packages (from datasets) (0.18.0)\n",
            "Requirement already satisfied: tqdm>=4.62.1 in /usr/local/lib/python3.8/dist-packages (from datasets) (4.64.1)\n",
            "Requirement already satisfied: aiohttp in /usr/local/lib/python3.8/dist-packages (from datasets) (3.8.4)\n",
            "Requirement already satisfied: pandas in /usr/local/lib/python3.8/dist-packages (from datasets) (1.3.5)\n",
            "Requirement already satisfied: fsspec[http]>=2021.11.1 in /usr/local/lib/python3.8/dist-packages (from datasets) (2023.1.0)\n",
            "Requirement already satisfied: huggingface-hub<1.0.0,>=0.2.0 in /usr/local/lib/python3.8/dist-packages (from datasets) (0.12.1)\n",
            "Requirement already satisfied: xxhash in /usr/local/lib/python3.8/dist-packages (from datasets) (3.2.0)\n",
            "Requirement already satisfied: dill<0.3.7,>=0.3.0 in /usr/local/lib/python3.8/dist-packages (from datasets) (0.3.6)\n",
            "Requirement already satisfied: regex!=2019.12.17 in /usr/local/lib/python3.8/dist-packages (from transformers) (2022.6.2)\n",
            "Requirement already satisfied: tokenizers!=0.11.3,<0.14,>=0.11.1 in /usr/local/lib/python3.8/dist-packages (from transformers) (0.13.2)\n",
            "Requirement already satisfied: filelock in /usr/local/lib/python3.8/dist-packages (from transformers) (3.9.0)\n",
            "Requirement already satisfied: async-timeout<5.0,>=4.0.0a3 in /usr/local/lib/python3.8/dist-packages (from aiohttp->datasets) (4.0.2)\n",
            "Requirement already satisfied: multidict<7.0,>=4.5 in /usr/local/lib/python3.8/dist-packages (from aiohttp->datasets) (6.0.4)\n",
            "Requirement already satisfied: charset-normalizer<4.0,>=2.0 in /usr/local/lib/python3.8/dist-packages (from aiohttp->datasets) (3.0.1)\n",
            "Requirement already satisfied: frozenlist>=1.1.1 in /usr/local/lib/python3.8/dist-packages (from aiohttp->datasets) (1.3.3)\n",
            "Requirement already satisfied: attrs>=17.3.0 in /usr/local/lib/python3.8/dist-packages (from aiohttp->datasets) (22.2.0)\n",
            "Requirement already satisfied: yarl<2.0,>=1.0 in /usr/local/lib/python3.8/dist-packages (from aiohttp->datasets) (1.8.2)\n",
            "Requirement already satisfied: aiosignal>=1.1.2 in /usr/local/lib/python3.8/dist-packages (from aiohttp->datasets) (1.3.1)\n",
            "Requirement already satisfied: typing-extensions>=3.7.4.3 in /usr/local/lib/python3.8/dist-packages (from huggingface-hub<1.0.0,>=0.2.0->datasets) (4.5.0)\n",
            "Requirement already satisfied: urllib3<1.27,>=1.21.1 in /usr/local/lib/python3.8/dist-packages (from requests>=2.19.0->datasets) (1.26.14)\n",
            "Requirement already satisfied: idna<3,>=2.5 in /usr/local/lib/python3.8/dist-packages (from requests>=2.19.0->datasets) (2.10)\n",
            "Requirement already satisfied: certifi>=2017.4.17 in /usr/local/lib/python3.8/dist-packages (from requests>=2.19.0->datasets) (2022.12.7)\n",
            "Requirement already satisfied: chardet<5,>=3.0.2 in /usr/local/lib/python3.8/dist-packages (from requests>=2.19.0->datasets) (4.0.0)\n",
            "Requirement already satisfied: pytz>=2017.3 in /usr/local/lib/python3.8/dist-packages (from pandas->datasets) (2022.7.1)\n",
            "Requirement already satisfied: python-dateutil>=2.7.3 in /usr/local/lib/python3.8/dist-packages (from pandas->datasets) (2.8.2)\n",
            "Requirement already satisfied: six>=1.5 in /usr/local/lib/python3.8/dist-packages (from python-dateutil>=2.7.3->pandas->datasets) (1.15.0)\n",
            "Looking in indexes: https://pypi.org/simple, https://us-python.pkg.dev/colab-wheels/public/simple/\n",
            "Requirement already satisfied: hazm in /usr/local/lib/python3.8/dist-packages (0.7.0)\n",
            "Requirement already satisfied: libwapiti>=0.2.1 in /usr/local/lib/python3.8/dist-packages (from hazm) (0.2.1)\n",
            "Requirement already satisfied: nltk==3.3 in /usr/local/lib/python3.8/dist-packages (from hazm) (3.3)\n",
            "Requirement already satisfied: six in /usr/local/lib/python3.8/dist-packages (from nltk==3.3->hazm) (1.15.0)\n"
          ]
        }
      ],
      "source": [
        "!pip install transformers\n",
        "!pip install annoy\n",
        "!pip install datasets transformers\n",
        "!pip install hazm"
      ]
    },
    {
      "cell_type": "code",
      "execution_count": null,
      "metadata": {
        "id": "ZXMv2af2Prd1"
      },
      "outputs": [],
      "source": [
        "!wget https://github.com/sobhe/hazm/releases/download/v0.5/resources-0.5.zip\n",
        "!wget https://github.com/sobhe/hazm/releases/download/v0.5/resources-stanford.zip\n",
        "!unzip resources-0.5.zip -d resources\n",
        "!unzip resources-stanford.zip -d resources"
      ]
    },
    {
      "cell_type": "code",
      "execution_count": 3,
      "metadata": {
        "id": "UyLZ13nBN4A0"
      },
      "outputs": [],
      "source": [
        "import pandas as pd\n",
        "import torch\n",
        "import annoy\n",
        "from transformers import AutoTokenizer, AutoModelForMaskedLM, AutoConfig, AutoModel, TFAutoModel\n",
        "from tqdm import tqdm\n",
        "from datasets import load_dataset, load_metric\n",
        "from datasets import ClassLabel, Sequence\n",
        "import random\n",
        "import pandas as pd\n",
        "from transformers import pipeline\n",
        "from hazm import *\n",
        "import copy"
      ]
    },
    {
      "cell_type": "code",
      "execution_count": 4,
      "metadata": {
        "colab": {
          "base_uri": "https://localhost:8080/"
        },
        "id": "eiYCC1nstVGA",
        "outputId": "bfb16b65-4020-4953-bff2-5a63ecc13836"
      },
      "outputs": [
        {
          "name": "stdout",
          "output_type": "stream",
          "text": [
            "Drive already mounted at /content/drive; to attempt to forcibly remount, call drive.mount(\"/content/drive\", force_remount=True).\n"
          ]
        }
      ],
      "source": [
        "from google.colab import drive\n",
        "drive.mount('/content/drive')"
      ]
    },
    {
      "cell_type": "code",
      "execution_count": 5,
      "metadata": {
        "id": "5_Ki_gY0Oodp"
      },
      "outputs": [],
      "source": [
        "documents_df = pd.read_pickle(\"/content/drive/MyDrive/CNN/documents_embeding_df_full.pkl\")\n",
        "contexts_df = pd.read_pickle(\"/content/drive/MyDrive/CNN/context_query_question_embeding_df_full.pkl\")"
      ]
    },
    {
      "cell_type": "code",
      "execution_count": 6,
      "metadata": {
        "colab": {
          "base_uri": "https://localhost:8080/"
        },
        "id": "99rxiFqB0zkn",
        "outputId": "c61fb856-c833-4dd6-fb9e-4e7c5c12107e"
      },
      "outputs": [
        {
          "data": {
            "text/plain": [
              "Index(['level_0', 'index', 'id', 'title', 'context', 'question', 'answers',\n",
              "       'search_query', 'search_query_embed', 'question_embed',\n",
              "       'context_embed'],\n",
              "      dtype='object')"
            ]
          },
          "execution_count": 6,
          "metadata": {},
          "output_type": "execute_result"
        }
      ],
      "source": [
        "contexts_df.columns"
      ]
    },
    {
      "cell_type": "code",
      "execution_count": 7,
      "metadata": {
        "id": "pTLexUsM0xnt"
      },
      "outputs": [],
      "source": [
        "contexts_df = contexts_df.drop(['search_query_embed'], axis=1)\n",
        "contexts_df = contexts_df.drop(['question_embed'], axis=1)"
      ]
    },
    {
      "cell_type": "code",
      "execution_count": 36,
      "metadata": {
        "id": "-DMD2bxrPGDu"
      },
      "outputs": [],
      "source": [
        "create_query_from_question = True\n",
        "number_of_documets_retrival = 3\n",
        "number_of_contexts_retrival = 3"
      ]
    },
    {
      "cell_type": "code",
      "execution_count": 61,
      "metadata": {
        "colab": {
          "base_uri": "https://localhost:8080/"
        },
        "id": "UWmU-5P5QIDS",
        "outputId": "d45a5572-3964-444f-e1c4-0f05ce5533ca"
      },
      "outputs": [
        {
          "name": "stderr",
          "output_type": "stream",
          "text": [
            "Some weights of the model checkpoint at HooshvareLab/bert-fa-zwnj-base were not used when initializing BertModel: ['cls.predictions.transform.LayerNorm.weight', 'cls.predictions.decoder.bias', 'cls.predictions.bias', 'cls.predictions.transform.LayerNorm.bias', 'cls.predictions.decoder.weight', 'cls.predictions.transform.dense.weight', 'cls.predictions.transform.dense.bias']\n",
            "- This IS expected if you are initializing BertModel from the checkpoint of a model trained on another task or with another architecture (e.g. initializing a BertForSequenceClassification model from a BertForPreTraining model).\n",
            "- This IS NOT expected if you are initializing BertModel from the checkpoint of a model that you expect to be exactly identical (initializing a BertForSequenceClassification model from a BertForSequenceClassification model).\n",
            "Some weights of BertModel were not initialized from the model checkpoint at HooshvareLab/bert-fa-zwnj-base and are newly initialized: ['bert.pooler.dense.bias', 'bert.pooler.dense.weight']\n",
            "You should probably TRAIN this model on a down-stream task to be able to use it for predictions and inference.\n"
          ]
        }
      ],
      "source": [
        "model_names = [\n",
        "    \"xlm-roberta-base\", # 0\n",
        "    \"HooshvareLab/bert-fa-zwnj-base\", # 1\n",
        "    \"HooshvareLab/distilbert-fa-zwnj-base\", # 2\n",
        "    \"HooshvareLab/roberta-fa-zwnj-base\", # 3\n",
        "]\n",
        "model_id = 1\n",
        "model_name_or_path = model_names[model_id]\n",
        "\n",
        "config = AutoConfig.from_pretrained(model_name_or_path)\n",
        "tokenizer = AutoTokenizer.from_pretrained(model_name_or_path, do_lower_case=True)\n",
        "model = AutoModel.from_pretrained(model_name_or_path)\n",
        "model.eval()\n",
        "if torch.cuda.is_available():\n",
        "  device = torch.device(\"cuda\")\n",
        "else:\n",
        "  device = torch.device(\"cpu\")\n",
        "\n",
        "model.to(device)\n",
        "\n",
        "\n",
        "# mrr_model = pipeline(task = \"question-answering\" ,model=\"/content/drive/MyDrive/CN/distilbert-fa-zwnj-base-on-pquad-dataset\")\n",
        "mrr_model = pipeline(task = \"question-answering\" ,model=\"/content/drive/MyDrive/CN/xlm-roberta-base-on-pquad-dataset\")"
      ]
    },
    {
      "cell_type": "code",
      "execution_count": 38,
      "metadata": {
        "id": "tT9-wyO8PWa4"
      },
      "outputs": [],
      "source": [
        "def create_search_query(text):\n",
        "    normalizer = Normalizer()\n",
        "    lemmatizer = Lemmatizer()\n",
        "    tagger = POSTagger(model='resources/postagger.model')\n",
        "    chunker = Chunker(model='resources/chunker.model')\n",
        "    # normalize = normalizer.normalize(text)\n",
        "    words = word_tokenize(text)\n",
        "    pos_tags = tagger.tag(words)\n",
        "    tree = chunker.parse(pos_tags)\n",
        "    query_words = []\n",
        "    for subtree in tree.subtrees(filter=lambda t: t.label() == 'NP'):\n",
        "        for word, pos in subtree.leaves():\n",
        "            query_words.append(word)#(lemmatizer.lemmatize(word))\n",
        "    query = ' '.join(query_words)\n",
        "    return query"
      ]
    },
    {
      "cell_type": "code",
      "execution_count": 39,
      "metadata": {
        "id": "GfFOxtCBQaPD"
      },
      "outputs": [],
      "source": [
        "def embed_question(question):\n",
        "  embeds_text = []\n",
        "  question_tensor = tokenizer.encode(question, return_tensors='pt' ,add_special_tokens=True,truncation=True)\n",
        "  question_tensor = question_tensor.to(device)\n",
        "  with torch.no_grad():\n",
        "      output = model(question_tensor)[0]\n",
        "      mean_pooled = torch.mean(output, 1)\n",
        "      question_embedding = mean_pooled.detach().cpu().numpy().tolist()[0]\n",
        "  return question_embedding"
      ]
    },
    {
      "cell_type": "code",
      "execution_count": 40,
      "metadata": {
        "id": "XoIGV35T8J1l"
      },
      "outputs": [],
      "source": [
        "question_id =121 #19999"
      ]
    },
    {
      "cell_type": "code",
      "execution_count": 41,
      "metadata": {
        "id": "qhPK7K6b3U0O"
      },
      "outputs": [],
      "source": [
        "Question = contexts_df[\"question\"][question_id]\n",
        "Answer = contexts_df[\"answers\"][question_id]\n",
        "title = contexts_df[\"title\"][question_id]\n"
      ]
    },
    {
      "cell_type": "code",
      "execution_count": 42,
      "metadata": {
        "colab": {
          "base_uri": "https://localhost:8080/"
        },
        "id": "P9BoyvqB72Ge",
        "outputId": "670053f8-dab0-4767-99bf-3a2120de41f5"
      },
      "outputs": [
        {
          "name": "stdout",
          "output_type": "stream",
          "text": [
            "Question = فوتبال به سبک امروزی در چه سالی آغاز شد؟\n",
            "title = فوتبال\n"
          ]
        }
      ],
      "source": [
        "print(\"Question = \" + Question)\n",
        "print(\"title = \"+title)"
      ]
    },
    {
      "cell_type": "code",
      "execution_count": 43,
      "metadata": {
        "colab": {
          "base_uri": "https://localhost:8080/"
        },
        "id": "UBTWtvEG8H5O",
        "outputId": "8e31b9f3-cd65-4007-f67c-53752d6bae26"
      },
      "outputs": [
        {
          "data": {
            "text/plain": [
              "{'text': ['اوایل سال ۱۸۰۰ میلادی'], 'answer_start': [199]}"
            ]
          },
          "execution_count": 43,
          "metadata": {},
          "output_type": "execute_result"
        }
      ],
      "source": [
        "Answer"
      ]
    },
    {
      "cell_type": "code",
      "execution_count": 44,
      "metadata": {
        "id": "fHqAiq0yObjS"
      },
      "outputs": [],
      "source": [
        "Query = create_search_query(Question)\n",
        "\n",
        "Question_embed = embed_question(Question)\n",
        "Query_embed = embed_question(Query)"
      ]
    },
    {
      "cell_type": "code",
      "execution_count": 45,
      "metadata": {
        "colab": {
          "base_uri": "https://localhost:8080/",
          "height": 36
        },
        "id": "n_lKQFNwF8pX",
        "outputId": "f0aea651-e9e0-49f2-8bcd-77f22db68c80"
      },
      "outputs": [
        {
          "data": {
            "application/vnd.google.colaboratory.intrinsic+json": {
              "type": "string"
            },
            "text/plain": [
              "'فوتبال سبک امروزی چه سالی'"
            ]
          },
          "execution_count": 45,
          "metadata": {},
          "output_type": "execute_result"
        }
      ],
      "source": [
        "Query"
      ]
    },
    {
      "cell_type": "code",
      "execution_count": 46,
      "metadata": {
        "colab": {
          "base_uri": "https://localhost:8080/"
        },
        "id": "zLspZyghOSmN",
        "outputId": "8cdad5f1-cfcf-4534-fc9f-1e070ec3a288"
      },
      "outputs": [
        {
          "data": {
            "text/plain": [
              "True"
            ]
          },
          "execution_count": 46,
          "metadata": {},
          "output_type": "execute_result"
        }
      ],
      "source": [
        "calculator = annoy.AnnoyIndex(768, metric='angular')\n",
        "for index, embedding in zip(documents_df.index, documents_df['document_embeds']):\n",
        "    calculator.add_item(index, embedding)\n",
        "calculator.build(number_of_documets_retrival)"
      ]
    },
    {
      "cell_type": "code",
      "execution_count": 47,
      "metadata": {
        "id": "28aIRkNdPR6H"
      },
      "outputs": [],
      "source": [
        "# Function to retrieve the most similar documents to a query\n",
        "def retrieve_documents(documents_df,query,calculator,numbers):\n",
        "    document_indices = calculator.get_nns_by_vector(query, numbers)\n",
        "    titles = []\n",
        "    for item in document_indices:\n",
        "      titles.append(documents_df.iloc[item][\"title\"])\n",
        "    return titles"
      ]
    },
    {
      "cell_type": "code",
      "execution_count": 48,
      "metadata": {
        "id": "EHg6nzGXQ5rP"
      },
      "outputs": [],
      "source": [
        "titles = retrieve_documents(documents_df,Query_embed,calculator,number_of_documets_retrival)"
      ]
    },
    {
      "cell_type": "code",
      "execution_count": 49,
      "metadata": {
        "colab": {
          "base_uri": "https://localhost:8080/"
        },
        "id": "DBjTQbbmSiNI",
        "outputId": "4cebf3fd-ed94-4fd3-8e2a-e64c61a249ad"
      },
      "outputs": [
        {
          "data": {
            "text/plain": [
              "['سویا', 'فوتبال', 'راگبی فوتبال']"
            ]
          },
          "execution_count": 49,
          "metadata": {},
          "output_type": "execute_result"
        }
      ],
      "source": [
        "titles"
      ]
    },
    {
      "cell_type": "code",
      "execution_count": 50,
      "metadata": {
        "id": "FETFTpb_Rj_a"
      },
      "outputs": [],
      "source": [
        "def get_contexts_of_titles(titles,contexts_df):\n",
        "  paragraphs =pd.DataFrame()\n",
        "  for title in titles:\n",
        "    df = contexts_df[contexts_df[\"title\"] == title]\n",
        "    if paragraphs.empty:\n",
        "      paragraphs = copy.deepcopy(df)\n",
        "    else:\n",
        "      paragraphs = paragraphs.append(df)\n",
        "  paragraphs = paragraphs.reset_index(drop=True)\n",
        "  return paragraphs"
      ]
    },
    {
      "cell_type": "code",
      "execution_count": 51,
      "metadata": {
        "id": "IFdPXVzHSRHf"
      },
      "outputs": [],
      "source": [
        "selected_paragraphs = get_contexts_of_titles(titles,contexts_df)"
      ]
    },
    {
      "cell_type": "code",
      "execution_count": 52,
      "metadata": {
        "colab": {
          "base_uri": "https://localhost:8080/",
          "height": 1000
        },
        "id": "TrlSdlKgr9Kf",
        "outputId": "91912816-3a77-41c8-c5bb-c1f554a8b210"
      },
      "outputs": [
        {
          "data": {
            "text/html": [
              "\n",
              "  <div id=\"df-517f5bc7-57ef-4e5a-bc2d-92df1e0b46ab\">\n",
              "    <div class=\"colab-df-container\">\n",
              "      <div>\n",
              "<style scoped>\n",
              "    .dataframe tbody tr th:only-of-type {\n",
              "        vertical-align: middle;\n",
              "    }\n",
              "\n",
              "    .dataframe tbody tr th {\n",
              "        vertical-align: top;\n",
              "    }\n",
              "\n",
              "    .dataframe thead th {\n",
              "        text-align: right;\n",
              "    }\n",
              "</style>\n",
              "<table border=\"1\" class=\"dataframe\">\n",
              "  <thead>\n",
              "    <tr style=\"text-align: right;\">\n",
              "      <th></th>\n",
              "      <th>level_0</th>\n",
              "      <th>index</th>\n",
              "      <th>id</th>\n",
              "      <th>title</th>\n",
              "      <th>context</th>\n",
              "      <th>question</th>\n",
              "      <th>answers</th>\n",
              "      <th>search_query</th>\n",
              "      <th>context_embed</th>\n",
              "    </tr>\n",
              "  </thead>\n",
              "  <tbody>\n",
              "    <tr>\n",
              "      <th>0</th>\n",
              "      <td>22056</td>\n",
              "      <td>22056</td>\n",
              "      <td>619713.0</td>\n",
              "      <td>سویا</td>\n",
              "      <td>باشگاه فوتبال سویا (به اسپانیایی: Sevilla Fút...</td>\n",
              "      <td>اولین و قدیمی‌ترین باشگاه فوتبال کشور اسپانیا ...</td>\n",
              "      <td>{'text': ['سویا'], 'answer_start': [14]}</td>\n",
              "      <td>اولین و قدیمی‌ترین باشگاه فوتبال کشور اسپانیا ...</td>\n",
              "      <td>[-1.1369779109954834, -0.6225090026855469, -0....</td>\n",
              "    </tr>\n",
              "    <tr>\n",
              "      <th>1</th>\n",
              "      <td>22057</td>\n",
              "      <td>22057</td>\n",
              "      <td>619714.0</td>\n",
              "      <td>سویا</td>\n",
              "      <td>باشگاه فوتبال سویا (به اسپانیایی: Sevilla Fút...</td>\n",
              "      <td>بزرگ‌ترین شهر ایالت خودمختار آندلس در کجا واق...</td>\n",
              "      <td>{'text': ['سویا'], 'answer_start': [137]}</td>\n",
              "      <td>بزرگ‌ترین شهر ایالت خودمختار آندلس کجا</td>\n",
              "      <td>[-1.1369779109954834, -0.6225090026855469, -0....</td>\n",
              "    </tr>\n",
              "    <tr>\n",
              "      <th>2</th>\n",
              "      <td>22058</td>\n",
              "      <td>22058</td>\n",
              "      <td>619715.0</td>\n",
              "      <td>سویا</td>\n",
              "      <td>باشگاه فوتبال سویا (به اسپانیایی: Sevilla Fút...</td>\n",
              "      <td>باشگاه فوتبال سویا در چه تاریخی توسط فردی اسکا...</td>\n",
              "      <td>{'text': ['۲۵ ژانویه سال ۱۸۹۰ میلادی'], 'answe...</td>\n",
              "      <td>باشگاه فوتبال سویا چه تاریخی فردی اسکاتلندی نا...</td>\n",
              "      <td>[-1.1369779109954834, -0.6225090026855469, -0....</td>\n",
              "    </tr>\n",
              "    <tr>\n",
              "      <th>3</th>\n",
              "      <td>22059</td>\n",
              "      <td>22059</td>\n",
              "      <td>619716.0</td>\n",
              "      <td>سویا</td>\n",
              "      <td>باشگاه فوتبال سویا (به اسپانیایی: Sevilla Fút...</td>\n",
              "      <td>باشگاه فوتبال سویا توسط چه کسی تأسیس گردید؟</td>\n",
              "      <td>{'text': ['فردی اسکاتلندی به نام ادوارد فراکُه...</td>\n",
              "      <td>باشگاه فوتبال سویا چه کسی</td>\n",
              "      <td>[-1.1369779109954834, -0.6225090026855469, -0....</td>\n",
              "    </tr>\n",
              "    <tr>\n",
              "      <th>4</th>\n",
              "      <td>22060</td>\n",
              "      <td>22060</td>\n",
              "      <td>619717.0</td>\n",
              "      <td>سویا</td>\n",
              "      <td>باشگاه فوتبال سویا (به اسپانیایی: Sevilla Fút...</td>\n",
              "      <td>نخستین رئیس باشگاه سویا چه کسی بود؟</td>\n",
              "      <td>{'text': ['فردی اسکاتلندی به نام ادوارد فراکُه...</td>\n",
              "      <td>نخستین رئیس باشگاه سویا چه کسی</td>\n",
              "      <td>[-1.1369779109954834, -0.6225090026855469, -0....</td>\n",
              "    </tr>\n",
              "    <tr>\n",
              "      <th>...</th>\n",
              "      <td>...</td>\n",
              "      <td>...</td>\n",
              "      <td>...</td>\n",
              "      <td>...</td>\n",
              "      <td>...</td>\n",
              "      <td>...</td>\n",
              "      <td>...</td>\n",
              "      <td>...</td>\n",
              "      <td>...</td>\n",
              "    </tr>\n",
              "    <tr>\n",
              "      <th>287</th>\n",
              "      <td>79615</td>\n",
              "      <td>7619</td>\n",
              "      <td>1976541.0</td>\n",
              "      <td>راگبی فوتبال</td>\n",
              "      <td>در سال ۱۹۰۶ و با کاهش تعداد بازیکان هر تیم از ...</td>\n",
              "      <td>چه تعداد باشگاه در لیگ راگبی نیو ساوت ولز هستند؟</td>\n",
              "      <td>{'text': [], 'answer_start': []}</td>\n",
              "      <td>چه تعداد باشگاه لیگ راگبی نیو ساوت ولز</td>\n",
              "      <td>[-0.7444747686386108, -0.18539494276046753, -1...</td>\n",
              "    </tr>\n",
              "    <tr>\n",
              "      <th>288</th>\n",
              "      <td>79616</td>\n",
              "      <td>7620</td>\n",
              "      <td>1976592.0</td>\n",
              "      <td>راگبی فوتبال</td>\n",
              "      <td>متأسفانه از آنجائیکه در ایران این ورزش را ب...</td>\n",
              "      <td>به چه دلیل از فوتبال آمریکایی در ایران حمایت ...</td>\n",
              "      <td>{'text': ['به دلیل مشکل سیاسی ایران باآمریکا'...</td>\n",
              "      <td>چه دلیل فوتبال آمریکایی ایران</td>\n",
              "      <td>[-0.1241147443652153, 0.2722756266593933, 0.01...</td>\n",
              "    </tr>\n",
              "    <tr>\n",
              "      <th>289</th>\n",
              "      <td>79617</td>\n",
              "      <td>7621</td>\n",
              "      <td>1976593.0</td>\n",
              "      <td>راگبی فوتبال</td>\n",
              "      <td>متأسفانه از آنجائیکه در ایران این ورزش را ب...</td>\n",
              "      <td>با پیگیری‌های چه کسی باعث شد تا ذهن مسئولین وق...</td>\n",
              "      <td>{'text': ['علیرضا فضل‌الله اعرابی'], 'answer_s...</td>\n",
              "      <td>پیگیری‌های چه کسی ذهن مسئولین وقت ورزش ایران م...</td>\n",
              "      <td>[-0.1241147443652153, 0.2722756266593933, 0.01...</td>\n",
              "    </tr>\n",
              "    <tr>\n",
              "      <th>290</th>\n",
              "      <td>79618</td>\n",
              "      <td>7622</td>\n",
              "      <td>1976594.0</td>\n",
              "      <td>راگبی فوتبال</td>\n",
              "      <td>متأسفانه از آنجائیکه در ایران این ورزش را ب...</td>\n",
              "      <td>سلسه مقالات کدام روزنامه نگار و فعال حقوق بشر ...</td>\n",
              "      <td>{'text': ['محمدصفر لفوتی'], 'answer_start': [2...</td>\n",
              "      <td>سلسه مقالات کدام روزنامه نگار و فعال حقوق بشر ...</td>\n",
              "      <td>[-0.1241147443652153, 0.2722756266593933, 0.01...</td>\n",
              "    </tr>\n",
              "    <tr>\n",
              "      <th>291</th>\n",
              "      <td>79619</td>\n",
              "      <td>7623</td>\n",
              "      <td>1976595.0</td>\n",
              "      <td>راگبی فوتبال</td>\n",
              "      <td>متأسفانه از آنجائیکه در ایران این ورزش را ب...</td>\n",
              "      <td>رئیس انجمن فوتبال آمریکایی در ایران کیست؟</td>\n",
              "      <td>{'text': [], 'answer_start': []}</td>\n",
              "      <td>رئیس انجمن فوتبال آمریکایی ایران</td>\n",
              "      <td>[-0.1241147443652153, 0.2722756266593933, 0.01...</td>\n",
              "    </tr>\n",
              "  </tbody>\n",
              "</table>\n",
              "<p>292 rows × 9 columns</p>\n",
              "</div>\n",
              "      <button class=\"colab-df-convert\" onclick=\"convertToInteractive('df-517f5bc7-57ef-4e5a-bc2d-92df1e0b46ab')\"\n",
              "              title=\"Convert this dataframe to an interactive table.\"\n",
              "              style=\"display:none;\">\n",
              "        \n",
              "  <svg xmlns=\"http://www.w3.org/2000/svg\" height=\"24px\"viewBox=\"0 0 24 24\"\n",
              "       width=\"24px\">\n",
              "    <path d=\"M0 0h24v24H0V0z\" fill=\"none\"/>\n",
              "    <path d=\"M18.56 5.44l.94 2.06.94-2.06 2.06-.94-2.06-.94-.94-2.06-.94 2.06-2.06.94zm-11 1L8.5 8.5l.94-2.06 2.06-.94-2.06-.94L8.5 2.5l-.94 2.06-2.06.94zm10 10l.94 2.06.94-2.06 2.06-.94-2.06-.94-.94-2.06-.94 2.06-2.06.94z\"/><path d=\"M17.41 7.96l-1.37-1.37c-.4-.4-.92-.59-1.43-.59-.52 0-1.04.2-1.43.59L10.3 9.45l-7.72 7.72c-.78.78-.78 2.05 0 2.83L4 21.41c.39.39.9.59 1.41.59.51 0 1.02-.2 1.41-.59l7.78-7.78 2.81-2.81c.8-.78.8-2.07 0-2.86zM5.41 20L4 18.59l7.72-7.72 1.47 1.35L5.41 20z\"/>\n",
              "  </svg>\n",
              "      </button>\n",
              "      \n",
              "  <style>\n",
              "    .colab-df-container {\n",
              "      display:flex;\n",
              "      flex-wrap:wrap;\n",
              "      gap: 12px;\n",
              "    }\n",
              "\n",
              "    .colab-df-convert {\n",
              "      background-color: #E8F0FE;\n",
              "      border: none;\n",
              "      border-radius: 50%;\n",
              "      cursor: pointer;\n",
              "      display: none;\n",
              "      fill: #1967D2;\n",
              "      height: 32px;\n",
              "      padding: 0 0 0 0;\n",
              "      width: 32px;\n",
              "    }\n",
              "\n",
              "    .colab-df-convert:hover {\n",
              "      background-color: #E2EBFA;\n",
              "      box-shadow: 0px 1px 2px rgba(60, 64, 67, 0.3), 0px 1px 3px 1px rgba(60, 64, 67, 0.15);\n",
              "      fill: #174EA6;\n",
              "    }\n",
              "\n",
              "    [theme=dark] .colab-df-convert {\n",
              "      background-color: #3B4455;\n",
              "      fill: #D2E3FC;\n",
              "    }\n",
              "\n",
              "    [theme=dark] .colab-df-convert:hover {\n",
              "      background-color: #434B5C;\n",
              "      box-shadow: 0px 1px 3px 1px rgba(0, 0, 0, 0.15);\n",
              "      filter: drop-shadow(0px 1px 2px rgba(0, 0, 0, 0.3));\n",
              "      fill: #FFFFFF;\n",
              "    }\n",
              "  </style>\n",
              "\n",
              "      <script>\n",
              "        const buttonEl =\n",
              "          document.querySelector('#df-517f5bc7-57ef-4e5a-bc2d-92df1e0b46ab button.colab-df-convert');\n",
              "        buttonEl.style.display =\n",
              "          google.colab.kernel.accessAllowed ? 'block' : 'none';\n",
              "\n",
              "        async function convertToInteractive(key) {\n",
              "          const element = document.querySelector('#df-517f5bc7-57ef-4e5a-bc2d-92df1e0b46ab');\n",
              "          const dataTable =\n",
              "            await google.colab.kernel.invokeFunction('convertToInteractive',\n",
              "                                                     [key], {});\n",
              "          if (!dataTable) return;\n",
              "\n",
              "          const docLinkHtml = 'Like what you see? Visit the ' +\n",
              "            '<a target=\"_blank\" href=https://colab.research.google.com/notebooks/data_table.ipynb>data table notebook</a>'\n",
              "            + ' to learn more about interactive tables.';\n",
              "          element.innerHTML = '';\n",
              "          dataTable['output_type'] = 'display_data';\n",
              "          await google.colab.output.renderOutput(dataTable, element);\n",
              "          const docLink = document.createElement('div');\n",
              "          docLink.innerHTML = docLinkHtml;\n",
              "          element.appendChild(docLink);\n",
              "        }\n",
              "      </script>\n",
              "    </div>\n",
              "  </div>\n",
              "  "
            ],
            "text/plain": [
              "     level_0  index         id         title  \\\n",
              "0      22056  22056   619713.0          سویا   \n",
              "1      22057  22057   619714.0          سویا   \n",
              "2      22058  22058   619715.0          سویا   \n",
              "3      22059  22059   619716.0          سویا   \n",
              "4      22060  22060   619717.0          سویا   \n",
              "..       ...    ...        ...           ...   \n",
              "287    79615   7619  1976541.0  راگبی فوتبال   \n",
              "288    79616   7620  1976592.0  راگبی فوتبال   \n",
              "289    79617   7621  1976593.0  راگبی فوتبال   \n",
              "290    79618   7622  1976594.0  راگبی فوتبال   \n",
              "291    79619   7623  1976595.0  راگبی فوتبال   \n",
              "\n",
              "                                               context  \\\n",
              "0    باشگاه فوتبال سویا (به اسپانیایی: Sevilla Fút...   \n",
              "1    باشگاه فوتبال سویا (به اسپانیایی: Sevilla Fút...   \n",
              "2    باشگاه فوتبال سویا (به اسپانیایی: Sevilla Fút...   \n",
              "3    باشگاه فوتبال سویا (به اسپانیایی: Sevilla Fút...   \n",
              "4    باشگاه فوتبال سویا (به اسپانیایی: Sevilla Fút...   \n",
              "..                                                 ...   \n",
              "287  در سال ۱۹۰۶ و با کاهش تعداد بازیکان هر تیم از ...   \n",
              "288  متأسفانه از آنجائیکه در ایران این ورزش را ب...   \n",
              "289  متأسفانه از آنجائیکه در ایران این ورزش را ب...   \n",
              "290  متأسفانه از آنجائیکه در ایران این ورزش را ب...   \n",
              "291  متأسفانه از آنجائیکه در ایران این ورزش را ب...   \n",
              "\n",
              "                                              question  \\\n",
              "0    اولین و قدیمی‌ترین باشگاه فوتبال کشور اسپانیا ...   \n",
              "1    بزرگ‌ترین شهر ایالت خودمختار آندلس در کجا واق...   \n",
              "2    باشگاه فوتبال سویا در چه تاریخی توسط فردی اسکا...   \n",
              "3          باشگاه فوتبال سویا توسط چه کسی تأسیس گردید؟   \n",
              "4                 نخستین رئیس باشگاه سویا چه کسی بود؟   \n",
              "..                                                 ...   \n",
              "287   چه تعداد باشگاه در لیگ راگبی نیو ساوت ولز هستند؟   \n",
              "288  به چه دلیل از فوتبال آمریکایی در ایران حمایت ...   \n",
              "289  با پیگیری‌های چه کسی باعث شد تا ذهن مسئولین وق...   \n",
              "290  سلسه مقالات کدام روزنامه نگار و فعال حقوق بشر ...   \n",
              "291         رئیس انجمن فوتبال آمریکایی در ایران کیست؟   \n",
              "\n",
              "                                               answers  \\\n",
              "0             {'text': ['سویا'], 'answer_start': [14]}   \n",
              "1            {'text': ['سویا'], 'answer_start': [137]}   \n",
              "2    {'text': ['۲۵ ژانویه سال ۱۸۹۰ میلادی'], 'answe...   \n",
              "3    {'text': ['فردی اسکاتلندی به نام ادوارد فراکُه...   \n",
              "4    {'text': ['فردی اسکاتلندی به نام ادوارد فراکُه...   \n",
              "..                                                 ...   \n",
              "287                   {'text': [], 'answer_start': []}   \n",
              "288  {'text': ['به دلیل مشکل سیاسی ایران باآمریکا'...   \n",
              "289  {'text': ['علیرضا فضل‌الله اعرابی'], 'answer_s...   \n",
              "290  {'text': ['محمدصفر لفوتی'], 'answer_start': [2...   \n",
              "291                   {'text': [], 'answer_start': []}   \n",
              "\n",
              "                                          search_query  \\\n",
              "0    اولین و قدیمی‌ترین باشگاه فوتبال کشور اسپانیا ...   \n",
              "1              بزرگ‌ترین شهر ایالت خودمختار آندلس کجا   \n",
              "2    باشگاه فوتبال سویا چه تاریخی فردی اسکاتلندی نا...   \n",
              "3                            باشگاه فوتبال سویا چه کسی   \n",
              "4                      نخستین رئیس باشگاه سویا چه کسی   \n",
              "..                                                 ...   \n",
              "287             چه تعداد باشگاه لیگ راگبی نیو ساوت ولز   \n",
              "288                     چه دلیل فوتبال آمریکایی ایران   \n",
              "289  پیگیری‌های چه کسی ذهن مسئولین وقت ورزش ایران م...   \n",
              "290  سلسه مقالات کدام روزنامه نگار و فعال حقوق بشر ...   \n",
              "291                  رئیس انجمن فوتبال آمریکایی ایران   \n",
              "\n",
              "                                         context_embed  \n",
              "0    [-1.1369779109954834, -0.6225090026855469, -0....  \n",
              "1    [-1.1369779109954834, -0.6225090026855469, -0....  \n",
              "2    [-1.1369779109954834, -0.6225090026855469, -0....  \n",
              "3    [-1.1369779109954834, -0.6225090026855469, -0....  \n",
              "4    [-1.1369779109954834, -0.6225090026855469, -0....  \n",
              "..                                                 ...  \n",
              "287  [-0.7444747686386108, -0.18539494276046753, -1...  \n",
              "288  [-0.1241147443652153, 0.2722756266593933, 0.01...  \n",
              "289  [-0.1241147443652153, 0.2722756266593933, 0.01...  \n",
              "290  [-0.1241147443652153, 0.2722756266593933, 0.01...  \n",
              "291  [-0.1241147443652153, 0.2722756266593933, 0.01...  \n",
              "\n",
              "[292 rows x 9 columns]"
            ]
          },
          "execution_count": 52,
          "metadata": {},
          "output_type": "execute_result"
        }
      ],
      "source": [
        "selected_paragraphs"
      ]
    },
    {
      "cell_type": "code",
      "execution_count": 53,
      "metadata": {
        "id": "336Go7HH7uRp"
      },
      "outputs": [],
      "source": [
        "selected_paragraphs.to_csv('question1999_paragraphs.csv')"
      ]
    },
    {
      "cell_type": "code",
      "execution_count": 54,
      "metadata": {
        "id": "_Ww04uUUGNAn"
      },
      "outputs": [],
      "source": [
        "def unique(list1):\n",
        "    unique_list = []\n",
        "    for x in list1:\n",
        "        if x not in unique_list:\n",
        "            unique_list.append(x)\n",
        "    return unique_list"
      ]
    },
    {
      "cell_type": "code",
      "execution_count": 55,
      "metadata": {
        "id": "RIfzAT1PUHAi"
      },
      "outputs": [],
      "source": [
        "# Function to retrieve the most similar documents to a query\n",
        "def retrieve_contexts(contexts_df,unique_embeds,query,calculator,numbers):\n",
        "    document_indices = calculator.get_nns_by_vector(query, numbers)\n",
        "    paragraphs = []\n",
        "    for item in document_indices:\n",
        "      selected_embed = unique_embeds[item]\n",
        "      for i in range(len(contexts_df)):\n",
        "        if contexts_df.iloc[i][\"context_embed\"]==selected_embed:\n",
        "          paragraphs.append(contexts_df.iloc[i][\"context\"])\n",
        "          break\n",
        "    return paragraphs"
      ]
    },
    {
      "cell_type": "code",
      "execution_count": 56,
      "metadata": {
        "colab": {
          "base_uri": "https://localhost:8080/"
        },
        "id": "2sg4z0afT1TR",
        "outputId": "149d7032-e293-464f-f339-4c194be9718e"
      },
      "outputs": [
        {
          "data": {
            "text/plain": [
              "True"
            ]
          },
          "execution_count": 56,
          "metadata": {},
          "output_type": "execute_result"
        }
      ],
      "source": [
        "searcher = annoy.AnnoyIndex(768, metric='angular')\n",
        "unique_embeds = unique(selected_paragraphs['context_embed'])\n",
        "for index, embedding in enumerate(unique_embeds):\n",
        "    searcher.add_item(index, embedding)\n",
        "searcher.build(number_of_contexts_retrival)"
      ]
    },
    {
      "cell_type": "code",
      "execution_count": 57,
      "metadata": {
        "id": "2xhyRl-HT-6e"
      },
      "outputs": [],
      "source": [
        "paragraphs = retrieve_contexts(selected_paragraphs,unique_embeds,Question_embed,searcher,number_of_contexts_retrival)"
      ]
    },
    {
      "cell_type": "code",
      "execution_count": 58,
      "metadata": {
        "colab": {
          "base_uri": "https://localhost:8080/",
          "height": 140
        },
        "id": "M57ECo_JGgrA",
        "outputId": "b72ca96d-179f-4852-f12a-6d86db35b653"
      },
      "outputs": [
        {
          "data": {
            "application/vnd.google.colaboratory.intrinsic+json": {
              "type": "string"
            },
            "text/plain": [
              "'پیشینهٔ معاصر این بازی جهانی به بیش از ۱۰۰ سال پیش بازمی\\u200cگردد؛ زمانی که این ورزش در انگلستان شکل\\u200cگرفت و اتحادیه فوتبال انگلستان به وجود آمد و فوتبال به ورزشی رسمی تبدیل\\u200cشد. فوتبال به سبک امروزی، در اوایل سال ۱۸۰۰ میلادی در هفت مدرسهٔ عمومی انگلستان آغاز گردید. شش مدرسه تقریباً همان فوتبال به سبک قدیمی را اجرا می\\u200cکردند؛ اما مدرسهٔ راگبی انگلستان که در سال ۱۵۶۷ تأسیس\\u200cشده بود، نسخه\\u200cای متفاوت از فوتبال را ارائه\\u200cداد. مدارس دیگر نیز قوانینی را ساخته و در پایان، بازی فوتبال مدرن را بنیان\\u200cگذاری کردند. در این سال اندازه و وزن توپ\\u200cها نیز استاندارد شد. در نخستین بازی ۹۰ دقیقه\\u200cای فوتبال، دو تیم لندن و شفیلد در سال ۱۸۶۶ به رقابت با یک\\u200cدیگر پرداختند.'"
            ]
          },
          "execution_count": 58,
          "metadata": {},
          "output_type": "execute_result"
        }
      ],
      "source": [
        "paragraphs[0]"
      ]
    },
    {
      "cell_type": "code",
      "execution_count": 62,
      "metadata": {
        "id": "DjRHOB0mLbNd"
      },
      "outputs": [],
      "source": [
        "outputs = []\n",
        "for paragraph in paragraphs:\n",
        "  outputs.append(mrr_model(question=Question, context=paragraph))"
      ]
    },
    {
      "cell_type": "code",
      "execution_count": 63,
      "metadata": {
        "colab": {
          "base_uri": "https://localhost:8080/"
        },
        "id": "2TV_9BG4tts8",
        "outputId": "286a59f6-e86e-488e-f825-af93ad3d194e"
      },
      "outputs": [
        {
          "data": {
            "text/plain": [
              "[{'score': 0.49756279587745667,\n",
              "  'start': 199,\n",
              "  'end': 220,\n",
              "  'answer': 'اوایل سال ۱۸۰۰ میلادی'},\n",
              " {'score': 2.5414148563385197e-09,\n",
              "  'start': 181,\n",
              "  'end': 236,\n",
              "  'answer': 'فوتبال آمریکایی، فوتبال استرالیایی، و فوتبال کانادایی.'},\n",
              " {'score': 4.5433682771545136e-07,\n",
              "  'start': 115,\n",
              "  'end': 126,\n",
              "  'answer': '۱۸۰۰ میلادی'}]"
            ]
          },
          "execution_count": 63,
          "metadata": {},
          "output_type": "execute_result"
        }
      ],
      "source": [
        "outputs"
      ]
    },
    {
      "cell_type": "code",
      "execution_count": 33,
      "metadata": {
        "colab": {
          "base_uri": "https://localhost:8080/"
        },
        "id": "xaP7YX_VtUIl",
        "outputId": "812bd2e5-eddc-4dca-b4b3-95d29d7393cd"
      },
      "outputs": [
        {
          "name": "stdout",
          "output_type": "stream",
          "text": [
            "اسم من محمدرضا جفائی است. من بیست و چهار ساله هستم و دانشجوی دانشگاه امیرکبیر تهران هستم\n",
            "{'score': 0.9059651494026184, 'start': 7, 'end': 20, 'answer': 'محمدرضا جفائی'}\n",
            "{'score': 0.028071196749806404, 'start': 29, 'end': 45, 'answer': 'بیست و چهار ساله'}\n"
          ]
        }
      ],
      "source": [
        "outputs = []\n",
        "\n",
        "context = \"اسم من محمدرضا جفائی است. من بیست و چهار ساله هستم و دانشجوی دانشگاه امیرکبیر تهران هستم\"\n",
        "print(context)\n",
        "print(mrr_model(question=\"اسم من چیست؟\", context=context))\n",
        "print(mrr_model(question=\"من چند سالمه؟\", context=context))"
      ]
    }
  ],
  "metadata": {
    "colab": {
      "provenance": []
    },
    "gpuClass": "standard",
    "kernelspec": {
      "display_name": "Python 3",
      "language": "python",
      "name": "python3"
    },
    "language_info": {
      "name": "python",
      "version": "3.10.9"
    },
    "vscode": {
      "interpreter": {
        "hash": "a9cff5a362bc38ef45d817ae74b1af54d6a076e3d773891282bce078b815ba34"
      }
    }
  },
  "nbformat": 4,
  "nbformat_minor": 0
}
